{
  "nbformat": 4,
  "nbformat_minor": 0,
  "metadata": {
    "colab": {
      "name": "NeuralNetworks_Exercises.ipynb",
      "provenance": [],
      "collapsed_sections": []
    },
    "kernelspec": {
      "name": "python3",
      "display_name": "Python 3"
    }
  },
  "cells": [
    {
      "cell_type": "markdown",
      "metadata": {
        "id": "PlpG_fIiqdJU",
        "colab_type": "text"
      },
      "source": [
        "# Neural Network Exercise\n",
        "\n",
        "In this Exercise Notebook you will be building your own artificial neural network and seeing how adding different types of layers can affect the validation/testing accuracy. This is based off of the Simple Neural Network with Keras tutorial, so you can reference that for further explanations as well."
      ]
    },
    {
      "cell_type": "code",
      "metadata": {
        "id": "eFSzOvSduDf8",
        "colab_type": "code",
        "colab": {}
      },
      "source": [
        "import os\n",
        "import matplotlib.pyplot as plt\n",
        "import pandas as pd\n",
        "from sklearn.preprocessing import StandardScaler\n",
        "from sklearn.utils import shuffle\n",
        "from keras.models import Sequential\n",
        "from keras.layers import Dense\n",
        "import tensorflow as tf"
      ],
      "execution_count": 51,
      "outputs": []
    },
    {
      "cell_type": "code",
      "metadata": {
        "id": "Ep_09mlyqa5G",
        "colab_type": "code",
        "colab": {
          "base_uri": "https://localhost:8080/",
          "height": 35
        },
        "outputId": "e16fb35e-5669-4047-ba9d-6c01abcf46f0"
      },
      "source": [
        "os.system('wget https://raw.githubusercontent.com/BeaverWorksMedlytics2020/Data_Public/master/NotebookExampleData/Week2/spoken_digit_manual_features.csv')"
      ],
      "execution_count": 52,
      "outputs": [
        {
          "output_type": "execute_result",
          "data": {
            "text/plain": [
              "0"
            ]
          },
          "metadata": {
            "tags": []
          },
          "execution_count": 52
        }
      ]
    },
    {
      "cell_type": "markdown",
      "metadata": {
        "id": "zChcGaqVysRB",
        "colab_type": "text"
      },
      "source": [
        "## Load Training Data and Pre-processed Features\n",
        "\n",
        "Your goal is to build a neural network that learns to classify which of the 5 speakers is recorded in a signal sample. Your prediction will be based off of features we've already pre-extracted for you and put into this CSV: spectral centroid `SC`, spectral flatness `SF`, and maximum frequency `MF`."
      ]
    },
    {
      "cell_type": "code",
      "metadata": {
        "id": "SVwsmOGvw7jp",
        "colab_type": "code",
        "colab": {
          "base_uri": "https://localhost:8080/",
          "height": 266
        },
        "outputId": "5c62b23d-67c4-4b51-b9a3-47ae67277520"
      },
      "source": [
        "# Load csv containing raw data, labels, and pre-processed features\n",
        "spoken_df = pd.read_csv('spoken_digit_manual_features.csv', index_col = 0)\n",
        "print(spoken_df.head(10))\n",
        "print('\\n')\n",
        "\n",
        "# Set speakers\n",
        "speakers = set(spoken_df['speaker'])\n",
        "print(f'There are {len(speakers)} unique speakers in the dataset')"
      ],
      "execution_count": 53,
      "outputs": [
        {
          "output_type": "stream",
          "text": [
            "                file  digit   speaker  trial           SC        SF          MF\n",
            "0   5_yweweler_8.wav      5  yweweler      8  1029.497959  0.397336  745.878340\n",
            "1    3_george_49.wav      3    george      4  1881.296834  0.387050  323.943662\n",
            "2  9_yweweler_44.wav      9  yweweler      4  1093.951856  0.394981  244.648318\n",
            "3  8_yweweler_33.wav      8  yweweler      3  1409.543285  0.487496  392.350401\n",
            "4      7_theo_34.wav      7      theo      3   887.361601  0.396825  130.640309\n",
            "5   1_jackson_45.wav      1   jackson      4  1007.568129  0.324100  216.306156\n",
            "6  6_yweweler_18.wav      6  yweweler      1  1286.701352  0.498813  400.715564\n",
            "7    9_george_35.wav      9    george      3  1405.092061  0.353083  447.239693\n",
            "8   9_jackson_32.wav      9   jackson      3  1172.899961  0.477907  114.892780\n",
            "9    8_george_26.wav      8    george      2  1959.977577  0.462901  320.537966\n",
            "\n",
            "\n",
            "There are 5 unique speakers in the dataset\n"
          ],
          "name": "stdout"
        }
      ]
    },
    {
      "cell_type": "markdown",
      "metadata": {
        "id": "mArY7lB4Akv1",
        "colab_type": "text"
      },
      "source": [
        "Converting labels to \"onehot\" vectors:"
      ]
    },
    {
      "cell_type": "code",
      "metadata": {
        "id": "nLRtFkiYAc3N",
        "colab_type": "code",
        "colab": {}
      },
      "source": [
        "# Make dictionary to convert from speaker names to indices\n",
        "name2int_dict = {name: ind for (ind, name) in enumerate(set(spoken_df['speaker']))}\n",
        "\n",
        "y_labels = spoken_df['speaker']\n",
        "# Set y_labels to be indices of speaker\n",
        "y_labels = [name2int_dict[name] for name in y_labels]"
      ],
      "execution_count": 54,
      "outputs": []
    },
    {
      "cell_type": "markdown",
      "metadata": {
        "id": "xUhDZMw1A93D",
        "colab_type": "text"
      },
      "source": [
        "Standardize data and split into train, validation, and test sets:"
      ]
    },
    {
      "cell_type": "code",
      "metadata": {
        "id": "TAuzw6ibA3Es",
        "colab_type": "code",
        "colab": {}
      },
      "source": [
        "# Downselect to only the 3 columns of the dataset we are learning from, aka the features\n",
        "X_data = spoken_df[['SC', 'SF', 'MF']].to_numpy()\n",
        "\n",
        "# Decide how large to make validation and test sets\n",
        "n_val = 250\n",
        "n_test = 250\n",
        "\n",
        "# Shuffle data before partitioning\n",
        "X_data, y_labels = shuffle(X_data, y_labels, random_state = 25)\n",
        "\n",
        "# Partition\n",
        "X_data_test, y_labels_test = X_data[:n_test,:], y_labels[:n_test]\n",
        "X_data_val, y_labels_val = X_data[n_test:n_test+n_val,:], y_labels[n_test:n_test+n_val]\n",
        "X_data_train, y_labels_train = X_data[n_test+n_val:,:], y_labels[n_test+n_val:]\n",
        "\n",
        "# Scale data\n",
        "scaler = StandardScaler()\n",
        "X_data_train=scaler.fit_transform(X_data_train)\n",
        "X_data_val = scaler.transform(X_data_val)\n",
        "X_data_test = scaler.transform(X_data_test)\n",
        "\n",
        "# Convert labels to onehot\n",
        "y_labels_train = tf.keras.utils.to_categorical(y_labels_train, 5)\n",
        "y_labels_val =  tf.keras.utils.to_categorical(y_labels_val, 5)\n",
        "y_labels_test =  tf.keras.utils.to_categorical(y_labels_test, 5)\n",
        "\n",
        "training_set = tf.data.Dataset.from_tensor_slices((X_data_train, y_labels_train))"
      ],
      "execution_count": 83,
      "outputs": []
    },
    {
      "cell_type": "markdown",
      "metadata": {
        "id": "riycN8SdyxNT",
        "colab_type": "text"
      },
      "source": [
        "## Aditional Layers\n",
        "\n",
        "Before you get to writing your own neural network we'll show you some examples of additional layers you can potetially add that we didn't go over in the tutorial. After reading over our explanations/example code and going through documentation you'll be testing some of these out by putting together a neural network yourself."
      ]
    },
    {
      "cell_type": "markdown",
      "metadata": {
        "id": "DoaZsqc3iEyv",
        "colab_type": "text"
      },
      "source": [
        "### Dropout Layers\n",
        "\n",
        "Dropout layers randomly omit, or drop, some elements of the output vector from the layer, which helps prevent overfitting and can improve the generalization of your neural network. The dropout rate can be any number between 0 and 1.\n",
        "\n",
        "https://www.tensorflow.org/api_docs/python/tf/keras/layers/Dropout\n",
        "\n",
        "```python\n",
        "# Example\n",
        "d_r = 0.6\n",
        "tf.keras.layers.Dropout(rate=d_r)\n",
        "```"
      ]
    },
    {
      "cell_type": "markdown",
      "metadata": {
        "id": "gVJMrZ09iUgk",
        "colab_type": "text"
      },
      "source": [
        "### Pooling Layers\n",
        "\n",
        "A pooling layer reduces dimensionality (reducing the size of each feature map) and \"compresses\" information by combining several output elements. Two common functions used for pooling are:\n",
        "- Average pooling: calculating the average value for each patch on the feature map\n",
        "- Max pooling: calculating the maximum value for each patch of the feature map\n",
        "\n",
        "https://www.tensorflow.org/api_docs/python/tf/keras/layers/MaxPool1D\n",
        "\n",
        "```python\n",
        "# Example\n",
        "tf.keras.layers.MaxPool1D(pool_size=1)\n",
        "```"
      ]
    },
    {
      "cell_type": "markdown",
      "metadata": {
        "id": "72ngF_beiaV9",
        "colab_type": "text"
      },
      "source": [
        "### Activation Layers/Functions\n",
        "\n",
        "An activation function looks at each \"neuron\" in your neural network and determines whether it should be activated (fired) or not, based on the relevancy of the neuron's input to the model’s predictions. Some different activation functions you could look at are:\n",
        "- softmax https://www.tensorflow.org/api_docs/python/tf/keras/layers/Softmax\n",
        "- sigmoid https://www.tensorflow.org/api_docs/python/tf/keras/activations/sigmoid\n",
        "- softplus https://www.tensorflow.org/api_docs/python/tf/keras/activations/softplus\n",
        "- relu https://www.tensorflow.org/api_docs/python/tf/keras/layers/ReLU\n",
        "\n",
        "```python\n",
        "# Example\n",
        "tf.keras.layers.Softmax()\n",
        "```"
      ]
    },
    {
      "cell_type": "markdown",
      "metadata": {
        "id": "zCdxM6HDqR1F",
        "colab_type": "text"
      },
      "source": [
        "### Optimation Functions\n",
        "\n",
        "Optimation functions\n",
        "- Adam https://www.tensorflow.org/api_docs/python/tf/keras/optimizers/Adam\n",
        "  - Adam is computationally efficient, has little memory requirement, and is well suited for problems that are large in terms of data/parameter.\n",
        "- Adagrad https://www.tensorflow.org/api_docs/python/tf/keras/optimizers/Adagrad\n",
        "  - Adagrad is an optimizer that is best used for sparse data. Some of its benefits are that it converges more quickly and doesn't need manual adjustment of the hyperparameter \"learning rate\".\n",
        "- SGD https://www.tensorflow.org/api_docs/python/tf/keras/optimizers/SGD\n",
        "  - SGD is a stochastic gradient descent and momentum optimizer. SGD essentially helps gradient vectors move down loss functions towards the minimum point, leading to faster \"converging\".\n",
        "- RMSprop https://keras.io/api/optimizers/rmsprop/\n",
        "  - As you may already know, the learning rate regulates how much the model \n",
        "can change based on the estimated error (which occurs every time the model's weights are updated). Instead of treating the learning rate as a hyperparamter, RMSprop is an optimization technique that uses relies on a changing, adaptive learning rate.\n",
        "\n",
        "```python\n",
        "# Example code\n",
        "l_r = .001 \n",
        "tf.keras.optimizers.SGD(learning_rate=l_r)\n",
        "```"
      ]
    },
    {
      "cell_type": "markdown",
      "metadata": {
        "id": "ldbularZ3cCW",
        "colab_type": "text"
      },
      "source": [
        "## Putting Together Your Neural Network\n",
        "\n",
        "Now you will experiment with adding different layers to your neural network. We've added some guiding comments to give you a place to start and test out, but we also strongly encourage you to go through all the documetation and do some googling as well!"
      ]
    },
    {
      "cell_type": "code",
      "metadata": {
        "id": "qMp_z7W9vZV4",
        "colab_type": "code",
        "colab": {}
      },
      "source": [
        "# Once you've gone through all the tests play around with these rate alues to see if you can increase your accuracy\n",
        "l_r = .001 \n",
        "d_r = 0.2\n",
        "\n",
        "model = tf.keras.Sequential()\n",
        "model.add(tf.keras.layers.Dense(8, input_shape=(3,)))"
      ],
      "execution_count": 84,
      "outputs": []
    },
    {
      "cell_type": "markdown",
      "metadata": {
        "id": "8OQKRfNjBWGC",
        "colab_type": "text"
      },
      "source": [
        "### Test 1"
      ]
    },
    {
      "cell_type": "code",
      "metadata": {
        "id": "BneaEDk-BWj2",
        "colab_type": "code",
        "colab": {}
      },
      "source": [
        "# Run this cell as it is\n",
        "model.add(tf.keras.layers.Dense(8))\n",
        "model.add(tf.keras.layers.Dense(8))\n",
        "\n",
        "# output dimension needs to be number of classes in order for each to get a score\n",
        "model.add(tf.keras.layers.Dense(5))\n",
        "\n",
        "# Now skip down to the section that compiles and trains your model and run those cells.\n",
        "# Check the pseudo-test accuracy and see how well the bare minimum performed."
      ],
      "execution_count": 42,
      "outputs": []
    },
    {
      "cell_type": "markdown",
      "metadata": {
        "id": "djwaQho7_xBt",
        "colab_type": "text"
      },
      "source": [
        "### Test 2"
      ]
    },
    {
      "cell_type": "code",
      "metadata": {
        "id": "o2MQzNEa_ViW",
        "colab_type": "code",
        "colab": {}
      },
      "source": [
        "# Add activation layer here (softmax) [step 1]\n",
        "tf.keras.layers.Softmax()\n",
        "# Add activation layer here (relu) [step 2]\n",
        "tf.keras.layers.ReLU()\n",
        "# Add activation layer here (softmax) [step 3]\n",
        "tf.keras.layers.Softmax()\n",
        "\n",
        "# output dimension needs to be number of classes in order for each to get a score\n",
        "model.add(tf.keras.layers.Dense(5))\n",
        "\n",
        "# Now skip down to the section that compiles and trains your model and re-run those cells.\n",
        "# What do you notice about the testing/Validation accuracy after Test 2 in comparison to Test 1?"
      ],
      "execution_count": 85,
      "outputs": []
    },
    {
      "cell_type": "markdown",
      "metadata": {
        "id": "M_pr4L_0Bzt_",
        "colab_type": "text"
      },
      "source": [
        "### Test 3"
      ]
    },
    {
      "cell_type": "code",
      "metadata": {
        "id": "pb-7sVYkB11c",
        "colab_type": "code",
        "colab": {
          "base_uri": "https://localhost:8080/",
          "height": 35
        },
        "outputId": "3a08d20e-e9d0-41cb-b980-c4df57c3e954"
      },
      "source": [
        "# Add activation layer here (softmax)\n",
        "model.add(tf.keras.layers.Dense(8))\n",
        "# Add activation layer here (relu)\n",
        "model.add(tf.keras.layers.Dense(8))\n",
        "# Add activation layer here (softmax)\n",
        "tf.keras.layers.Softmax()\n",
        "\n",
        "# output dimension needs to be number of classes in order for each to get a score\n",
        "model.add(tf.keras.layers.Dense(5))\n",
        "\n",
        "# Add dropout layer here (0.6 learning rate)\n",
        "tf.keras.layers.Dropout(rate=d_r)\n",
        "\n",
        "# Now skip down to the section that compiles and trains your model and re-run those cells.\n",
        "# What do you notice about the testing/Validation accuracy after Test 2 in comparison to Test 1 & 2?"
      ],
      "execution_count": 75,
      "outputs": [
        {
          "output_type": "execute_result",
          "data": {
            "text/plain": [
              "<tensorflow.python.keras.layers.core.Dropout at 0x7f73c80c5978>"
            ]
          },
          "metadata": {
            "tags": []
          },
          "execution_count": 75
        }
      ]
    },
    {
      "cell_type": "markdown",
      "metadata": {
        "id": "YwjD-MgMDHFV",
        "colab_type": "text"
      },
      "source": [
        "### Test 4\n",
        "\n",
        "Now go back down to the cell where you compiled your model, and this time change the optimizer. It's been set to Adam by default but as we showed you above, there are other functions that you can test out. Try Adagrad, SGD, then RMSprop."
      ]
    },
    {
      "cell_type": "markdown",
      "metadata": {
        "id": "Qhna7lr5Dm56",
        "colab_type": "text"
      },
      "source": [
        "## Compiling and Training Your Model"
      ]
    },
    {
      "cell_type": "code",
      "metadata": {
        "id": "XB1qNpsoASGv",
        "colab_type": "code",
        "colab": {}
      },
      "source": [
        "model.compile(loss = tf.keras.losses.categorical_crossentropy, \n",
        "              optimizer = tf.keras.optimizers.SGD(learning_rate=l_r),\n",
        "              metrics = ['accuracy'])   "
      ],
      "execution_count": 91,
      "outputs": []
    },
    {
      "cell_type": "markdown",
      "metadata": {
        "id": "Tj1lwAY7BJPk",
        "colab_type": "text"
      },
      "source": [
        "Fit Model to Data, Specify Number of Epochs and Batch Size:"
      ]
    },
    {
      "cell_type": "code",
      "metadata": {
        "id": "uF2RT0eGBIlD",
        "colab_type": "code",
        "colab": {
          "base_uri": "https://localhost:8080/",
          "height": 1000
        },
        "outputId": "42231a5a-6428-4580-ceb5-f9569f3c594c"
      },
      "source": [
        "EPOCHS = 50\n",
        "batch_size = 100\n",
        "\n",
        "training_set = training_set.batch(batch_size) #set batch size\n",
        "\n",
        "for epoch in range(EPOCHS):\n",
        "    for signals, labels in training_set:\n",
        "        tr_loss, tr_accuracy = model.train_on_batch(signals, labels)\n",
        "    val_loss, val_accuracy = model.evaluate(X_data_val, y_labels_val)\n",
        "    print(('Epoch #%d\\t Training Loss: %.2f\\tTraining Accuracy: %.2f\\t'\n",
        "         'Validation Loss: %.2f\\tValidation Accuracy: %.2f')\n",
        "         % (epoch + 1, tr_loss, tr_accuracy,\n",
        "         val_loss, val_accuracy))"
      ],
      "execution_count": 92,
      "outputs": [
        {
          "output_type": "stream",
          "text": [
            "WARNING:tensorflow:Model was constructed with shape (None, 3) for input Tensor(\"dense_63_input:0\", shape=(None, 3), dtype=float32), but it was called on an input with incompatible shape (20, 100, 3).\n",
            "WARNING:tensorflow:Model was constructed with shape (None, 3) for input Tensor(\"dense_63_input:0\", shape=(None, 3), dtype=float32), but it was called on an input with incompatible shape (20, 100, 3).\n",
            "8/8 [==============================] - 0s 2ms/step - loss: 6.4787 - accuracy: 0.2320\n",
            "Epoch #1\t Training Loss: 6.61\tTraining Accuracy: 0.20\tValidation Loss: 6.48\tValidation Accuracy: 0.23\n",
            "8/8 [==============================] - 0s 1ms/step - loss: 5.5295 - accuracy: 0.2160\n",
            "Epoch #2\t Training Loss: 6.48\tTraining Accuracy: 0.21\tValidation Loss: 5.53\tValidation Accuracy: 0.22\n",
            "8/8 [==============================] - 0s 1ms/step - loss: 5.5183 - accuracy: 0.2160\n",
            "Epoch #3\t Training Loss: 5.56\tTraining Accuracy: 0.20\tValidation Loss: 5.52\tValidation Accuracy: 0.22\n",
            "8/8 [==============================] - 0s 1ms/step - loss: 5.5395 - accuracy: 0.2200\n",
            "Epoch #4\t Training Loss: 5.54\tTraining Accuracy: 0.20\tValidation Loss: 5.54\tValidation Accuracy: 0.22\n",
            "8/8 [==============================] - 0s 1ms/step - loss: 5.6608 - accuracy: 0.2200\n",
            "Epoch #5\t Training Loss: 5.56\tTraining Accuracy: 0.20\tValidation Loss: 5.66\tValidation Accuracy: 0.22\n",
            "8/8 [==============================] - 0s 1ms/step - loss: 5.5980 - accuracy: 0.2200\n",
            "Epoch #6\t Training Loss: 5.66\tTraining Accuracy: 0.20\tValidation Loss: 5.60\tValidation Accuracy: 0.22\n",
            "8/8 [==============================] - 0s 2ms/step - loss: 5.6551 - accuracy: 0.2200\n",
            "Epoch #7\t Training Loss: 5.61\tTraining Accuracy: 0.20\tValidation Loss: 5.66\tValidation Accuracy: 0.22\n",
            "8/8 [==============================] - 0s 1ms/step - loss: 5.4686 - accuracy: 0.2200\n",
            "Epoch #8\t Training Loss: 5.66\tTraining Accuracy: 0.20\tValidation Loss: 5.47\tValidation Accuracy: 0.22\n",
            "8/8 [==============================] - 0s 2ms/step - loss: 5.5216 - accuracy: 0.2240\n",
            "Epoch #9\t Training Loss: 5.48\tTraining Accuracy: 0.20\tValidation Loss: 5.52\tValidation Accuracy: 0.22\n",
            "8/8 [==============================] - 0s 2ms/step - loss: 5.4683 - accuracy: 0.2240\n",
            "Epoch #10\t Training Loss: 5.52\tTraining Accuracy: 0.20\tValidation Loss: 5.47\tValidation Accuracy: 0.22\n",
            "8/8 [==============================] - 0s 2ms/step - loss: 5.3904 - accuracy: 0.2240\n",
            "Epoch #11\t Training Loss: 5.47\tTraining Accuracy: 0.20\tValidation Loss: 5.39\tValidation Accuracy: 0.22\n",
            "8/8 [==============================] - 0s 2ms/step - loss: 5.2060 - accuracy: 0.2200\n",
            "Epoch #12\t Training Loss: 5.40\tTraining Accuracy: 0.20\tValidation Loss: 5.21\tValidation Accuracy: 0.22\n",
            "8/8 [==============================] - 0s 1ms/step - loss: 5.1809 - accuracy: 0.2200\n",
            "Epoch #13\t Training Loss: 5.22\tTraining Accuracy: 0.20\tValidation Loss: 5.18\tValidation Accuracy: 0.22\n",
            "8/8 [==============================] - 0s 1ms/step - loss: 4.9179 - accuracy: 0.2160\n",
            "Epoch #14\t Training Loss: 5.20\tTraining Accuracy: 0.20\tValidation Loss: 4.92\tValidation Accuracy: 0.22\n",
            "8/8 [==============================] - 0s 1ms/step - loss: 4.9268 - accuracy: 0.2200\n",
            "Epoch #15\t Training Loss: 4.93\tTraining Accuracy: 0.20\tValidation Loss: 4.93\tValidation Accuracy: 0.22\n",
            "8/8 [==============================] - 0s 3ms/step - loss: 4.8524 - accuracy: 0.2160\n",
            "Epoch #16\t Training Loss: 4.94\tTraining Accuracy: 0.20\tValidation Loss: 4.85\tValidation Accuracy: 0.22\n",
            "8/8 [==============================] - 0s 2ms/step - loss: 4.7397 - accuracy: 0.2200\n",
            "Epoch #17\t Training Loss: 4.86\tTraining Accuracy: 0.20\tValidation Loss: 4.74\tValidation Accuracy: 0.22\n",
            "8/8 [==============================] - 0s 2ms/step - loss: 4.7840 - accuracy: 0.2200\n",
            "Epoch #18\t Training Loss: 4.76\tTraining Accuracy: 0.20\tValidation Loss: 4.78\tValidation Accuracy: 0.22\n",
            "8/8 [==============================] - 0s 1ms/step - loss: 4.6801 - accuracy: 0.2040\n",
            "Epoch #19\t Training Loss: 4.80\tTraining Accuracy: 0.21\tValidation Loss: 4.68\tValidation Accuracy: 0.20\n",
            "8/8 [==============================] - 0s 2ms/step - loss: 4.5676 - accuracy: 0.2040\n",
            "Epoch #20\t Training Loss: 4.69\tTraining Accuracy: 0.20\tValidation Loss: 4.57\tValidation Accuracy: 0.20\n",
            "8/8 [==============================] - 0s 2ms/step - loss: 4.5980 - accuracy: 0.2000\n",
            "Epoch #21\t Training Loss: 4.58\tTraining Accuracy: 0.20\tValidation Loss: 4.60\tValidation Accuracy: 0.20\n",
            "8/8 [==============================] - 0s 1ms/step - loss: 4.5952 - accuracy: 0.2000\n",
            "Epoch #22\t Training Loss: 4.61\tTraining Accuracy: 0.20\tValidation Loss: 4.60\tValidation Accuracy: 0.20\n",
            "8/8 [==============================] - 0s 1ms/step - loss: 4.5928 - accuracy: 0.2000\n",
            "Epoch #23\t Training Loss: 4.61\tTraining Accuracy: 0.20\tValidation Loss: 4.59\tValidation Accuracy: 0.20\n",
            "8/8 [==============================] - 0s 1ms/step - loss: 4.5884 - accuracy: 0.2000\n",
            "Epoch #24\t Training Loss: 4.60\tTraining Accuracy: 0.20\tValidation Loss: 4.59\tValidation Accuracy: 0.20\n",
            "8/8 [==============================] - 0s 1ms/step - loss: 4.5862 - accuracy: 0.2000\n",
            "Epoch #25\t Training Loss: 4.60\tTraining Accuracy: 0.20\tValidation Loss: 4.59\tValidation Accuracy: 0.20\n",
            "8/8 [==============================] - 0s 1ms/step - loss: 4.5842 - accuracy: 0.2000\n",
            "Epoch #26\t Training Loss: 4.60\tTraining Accuracy: 0.20\tValidation Loss: 4.58\tValidation Accuracy: 0.20\n",
            "8/8 [==============================] - 0s 2ms/step - loss: 4.5822 - accuracy: 0.2000\n",
            "Epoch #27\t Training Loss: 4.60\tTraining Accuracy: 0.20\tValidation Loss: 4.58\tValidation Accuracy: 0.20\n",
            "8/8 [==============================] - 0s 1ms/step - loss: 4.6447 - accuracy: 0.2000\n",
            "Epoch #28\t Training Loss: 4.59\tTraining Accuracy: 0.20\tValidation Loss: 4.64\tValidation Accuracy: 0.20\n",
            "8/8 [==============================] - 0s 1ms/step - loss: 4.7022 - accuracy: 0.2040\n",
            "Epoch #29\t Training Loss: 4.65\tTraining Accuracy: 0.20\tValidation Loss: 4.70\tValidation Accuracy: 0.20\n",
            "8/8 [==============================] - 0s 1ms/step - loss: 4.7278 - accuracy: 0.2040\n",
            "Epoch #30\t Training Loss: 4.70\tTraining Accuracy: 0.20\tValidation Loss: 4.73\tValidation Accuracy: 0.20\n",
            "8/8 [==============================] - 0s 2ms/step - loss: 4.7159 - accuracy: 0.2080\n",
            "Epoch #31\t Training Loss: 4.73\tTraining Accuracy: 0.20\tValidation Loss: 4.72\tValidation Accuracy: 0.21\n",
            "8/8 [==============================] - 0s 1ms/step - loss: 4.7108 - accuracy: 0.2080\n",
            "Epoch #32\t Training Loss: 4.72\tTraining Accuracy: 0.20\tValidation Loss: 4.71\tValidation Accuracy: 0.21\n",
            "8/8 [==============================] - 0s 1ms/step - loss: 4.7729 - accuracy: 0.2080\n",
            "Epoch #33\t Training Loss: 4.71\tTraining Accuracy: 0.20\tValidation Loss: 4.77\tValidation Accuracy: 0.21\n",
            "8/8 [==============================] - 0s 1ms/step - loss: 4.7706 - accuracy: 0.2080\n",
            "Epoch #34\t Training Loss: 4.77\tTraining Accuracy: 0.20\tValidation Loss: 4.77\tValidation Accuracy: 0.21\n",
            "8/8 [==============================] - 0s 1ms/step - loss: 4.6758 - accuracy: 0.2040\n",
            "Epoch #35\t Training Loss: 4.77\tTraining Accuracy: 0.20\tValidation Loss: 4.68\tValidation Accuracy: 0.20\n",
            "8/8 [==============================] - 0s 2ms/step - loss: 4.6591 - accuracy: 0.2040\n",
            "Epoch #36\t Training Loss: 4.68\tTraining Accuracy: 0.20\tValidation Loss: 4.66\tValidation Accuracy: 0.20\n",
            "8/8 [==============================] - 0s 1ms/step - loss: 4.6164 - accuracy: 0.2040\n",
            "Epoch #37\t Training Loss: 4.67\tTraining Accuracy: 0.20\tValidation Loss: 4.62\tValidation Accuracy: 0.20\n",
            "8/8 [==============================] - 0s 2ms/step - loss: 4.5741 - accuracy: 0.2000\n",
            "Epoch #38\t Training Loss: 4.63\tTraining Accuracy: 0.20\tValidation Loss: 4.57\tValidation Accuracy: 0.20\n",
            "8/8 [==============================] - 0s 2ms/step - loss: 4.5605 - accuracy: 0.2000\n",
            "Epoch #39\t Training Loss: 4.59\tTraining Accuracy: 0.20\tValidation Loss: 4.56\tValidation Accuracy: 0.20\n",
            "8/8 [==============================] - 0s 1ms/step - loss: 4.5544 - accuracy: 0.2000\n",
            "Epoch #40\t Training Loss: 4.58\tTraining Accuracy: 0.20\tValidation Loss: 4.55\tValidation Accuracy: 0.20\n",
            "8/8 [==============================] - 0s 1ms/step - loss: 4.6121 - accuracy: 0.2000\n",
            "Epoch #41\t Training Loss: 4.57\tTraining Accuracy: 0.20\tValidation Loss: 4.61\tValidation Accuracy: 0.20\n",
            "8/8 [==============================] - 0s 2ms/step - loss: 4.5994 - accuracy: 0.2000\n",
            "Epoch #42\t Training Loss: 4.63\tTraining Accuracy: 0.20\tValidation Loss: 4.60\tValidation Accuracy: 0.20\n",
            "8/8 [==============================] - 0s 2ms/step - loss: 4.5945 - accuracy: 0.2000\n",
            "Epoch #43\t Training Loss: 4.61\tTraining Accuracy: 0.20\tValidation Loss: 4.59\tValidation Accuracy: 0.20\n",
            "8/8 [==============================] - 0s 1ms/step - loss: 4.5380 - accuracy: 0.2000\n",
            "Epoch #44\t Training Loss: 4.61\tTraining Accuracy: 0.20\tValidation Loss: 4.54\tValidation Accuracy: 0.20\n",
            "8/8 [==============================] - 0s 2ms/step - loss: 4.5351 - accuracy: 0.1960\n",
            "Epoch #45\t Training Loss: 4.56\tTraining Accuracy: 0.20\tValidation Loss: 4.54\tValidation Accuracy: 0.20\n",
            "8/8 [==============================] - 0s 2ms/step - loss: 4.4636 - accuracy: 0.1960\n",
            "Epoch #46\t Training Loss: 4.55\tTraining Accuracy: 0.20\tValidation Loss: 4.46\tValidation Accuracy: 0.20\n",
            "8/8 [==============================] - 0s 2ms/step - loss: 4.4609 - accuracy: 0.1960\n",
            "Epoch #47\t Training Loss: 4.49\tTraining Accuracy: 0.20\tValidation Loss: 4.46\tValidation Accuracy: 0.20\n",
            "8/8 [==============================] - 0s 2ms/step - loss: 4.4585 - accuracy: 0.1960\n",
            "Epoch #48\t Training Loss: 4.49\tTraining Accuracy: 0.20\tValidation Loss: 4.46\tValidation Accuracy: 0.20\n",
            "8/8 [==============================] - 0s 1ms/step - loss: 4.4653 - accuracy: 0.1960\n",
            "Epoch #49\t Training Loss: 4.48\tTraining Accuracy: 0.20\tValidation Loss: 4.47\tValidation Accuracy: 0.20\n",
            "8/8 [==============================] - 0s 2ms/step - loss: 4.4624 - accuracy: 0.1960\n",
            "Epoch #50\t Training Loss: 4.49\tTraining Accuracy: 0.20\tValidation Loss: 4.46\tValidation Accuracy: 0.20\n"
          ],
          "name": "stdout"
        }
      ]
    },
    {
      "cell_type": "code",
      "metadata": {
        "id": "4GipGyEkBQdj",
        "colab_type": "code",
        "colab": {
          "base_uri": "https://localhost:8080/",
          "height": 35
        },
        "outputId": "88090751-840e-4651-83ca-81b2c83da58b"
      },
      "source": [
        "#Check Performance on Test Set\n",
        "test_loss, test_accuracy = model.evaluate(X_data_test, y_labels_test)"
      ],
      "execution_count": 93,
      "outputs": [
        {
          "output_type": "stream",
          "text": [
            "8/8 [==============================] - 0s 2ms/step - loss: 4.7463 - accuracy: 0.1600\n"
          ],
          "name": "stdout"
        }
      ]
    },
    {
      "cell_type": "markdown",
      "metadata": {
        "id": "maTNvEQpbkoS",
        "colab_type": "text"
      },
      "source": [
        "Now modify the existing model even more, and try to find the highest and appropriate testing and validation accuracy!"
      ]
    },
    {
      "cell_type": "code",
      "metadata": {
        "id": "lRaZHaQbYNNT",
        "colab_type": "code",
        "colab": {}
      },
      "source": [
        "l_r = .001 \n",
        "d_r = 0.2\n",
        "\n",
        "model = tf.keras.Sequential()\n",
        "model.add(tf.keras.layers.Dense(12, input_shape=(3,)))"
      ],
      "execution_count": 89,
      "outputs": []
    },
    {
      "cell_type": "code",
      "metadata": {
        "id": "vkQFxJVGZAzk",
        "colab_type": "code",
        "colab": {
          "base_uri": "https://localhost:8080/",
          "height": 35
        },
        "outputId": "94833eea-a186-4728-d1e5-2c57abb9ec75"
      },
      "source": [
        "# Add activation layer here (softmax)\n",
        "model.add(tf.keras.layers.Dense(12))\n",
        "# Add activation layer here (relu)\n",
        "model.add(tf.keras.layers.Dense(12))\n",
        "# Add activation layer here (softmax)\n",
        "tf.keras.layers.Softmax()\n",
        "\n",
        "# output dimension needs to be number of classes in order for each to get a score\n",
        "model.add(tf.keras.layers.Dense(5))\n",
        "\n",
        "# Add dropout layer here (0.6 learning rate)\n",
        "tf.keras.layers.Dropout(rate=d_r)\n",
        "\n",
        "# Now skip down to the section that compiles and trains your model and re-run those cells.\n",
        "# What do you notice about the testing/Validation accuracy after Test 2 in comparison to Test 1 & 2?"
      ],
      "execution_count": 90,
      "outputs": [
        {
          "output_type": "execute_result",
          "data": {
            "text/plain": [
              "<tensorflow.python.keras.layers.core.Dropout at 0x7f73cb503cc0>"
            ]
          },
          "metadata": {
            "tags": []
          },
          "execution_count": 90
        }
      ]
    },
    {
      "cell_type": "code",
      "metadata": {
        "id": "0LAxQJJmZGMg",
        "colab_type": "code",
        "colab": {}
      },
      "source": [
        ""
      ],
      "execution_count": null,
      "outputs": []
    }
  ]
}